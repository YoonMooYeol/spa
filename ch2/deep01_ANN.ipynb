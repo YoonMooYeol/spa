{
 "cells": [
  {
   "cell_type": "code",
   "execution_count": 1,
   "metadata": {},
   "outputs": [
    {
     "name": "stdout",
     "output_type": "stream",
     "text": [
      "tensor([[-0.7136]], grad_fn=<AddmmBackward0>)\n"
     ]
    }
   ],
   "source": [
    "import torch\n",
    "import torch.nn as nn\n",
    "import torch.nn.functional as F\n",
    "\n",
    "# 간단한 ANN 모델 정의\n",
    "class Net(nn.Module):\n",
    "    def __init__(self):\n",
    "        super(Net, self).__init__()\n",
    "        # 선형 레이어 (입력: 2, 출력: 10)\n",
    "        self.fc1 = nn.Linear(2, 10) \n",
    "        # 선형 레이어 (입력: 10, 출력: 1)\n",
    "        self.fc2 = nn.Linear(10, 1)\n",
    "\n",
    "    def forward(self, x):\n",
    "        # ReLU 활성화 함수 적용\n",
    "        x = F.relu(self.fc1(x))\n",
    "        # 출력 레이어 (활성화 함수 없음)\n",
    "        x = self.fc2(x)\n",
    "        return x\n",
    "\n",
    "# 모델 인스턴스 생성\n",
    "net = Net()\n",
    "\n",
    "# 입력 데이터 생성\n",
    "input_data = torch.randn(1, 2)\n",
    "\n",
    "# 모델에 입력 데이터 전달하여 출력 얻기\n",
    "output = net(input_data)\n",
    "\n",
    "print(output)"
   ]
  },
  {
   "cell_type": "markdown",
   "metadata": {},
   "source": [
    "활성화 함수는 인공 신경망에서 뉴런의 출력을 결정하는 함수입니다. 쉽게 말해, 뉴런이 입력 신호를 받아 어떤 값을 출력할지 정하는 역할을 합니다.\n",
    "\n",
    "활성화 함수가 필요한 이유\n",
    "\n",
    "비선형성 도입: 활성화 함수는 신경망에 비선형성을 도입하여 복잡한 패턴을 학습할 수 있도록 합니다. 만약 활성화 함수가 없다면, 신경망은 여러 개의 선형 레이어를 쌓은 것과 동일하게 되어 선형 모델의 한계를 벗어날 수 없습니다.\n",
    "출력 값 조정: 활성화 함수는 뉴런의 출력 값을 특정 범위로 제한하거나 특정 조건에 따라 값을 변환하여 학습 과정을 안정화하고 효율성을 높입니다.\n",
    "주요 활성화 함수 종류\n",
    "\n",
    "Sigmoid: 출력 값을 0과 1 사이로 제한합니다. 주로 이진 분류 문제에 사용됩니다.\n",
    "장점: 출력 값이 확률로 해석될 수 있습니다.\n",
    "단점: 기울기 소실 문제가 발생할 수 있습니다.\n",
    "ReLU (Rectified Linear Unit): 입력 값이 0보다 작으면 0, 0보다 크면 입력 값을 그대로 출력합니다.\n",
    "장점: 계산이 간단하고 학습 속도가 빠릅니다.\n",
    "단점: Dying ReLU 문제가 발생할 수 있습니다.\n",
    "Tanh (Hyperbolic Tangent): 출력 값을 -1과 1 사이로 제한합니다.\n",
    "장점: Sigmoid 함수보다 기울기 소실 문제가 덜 발생합니다.\n",
    "단점: ReLU 함수보다 계산량이 많습니다.\n",
    "Softmax: 여러 개의 출력 값을 확률 분포로 변환합니다. 주로 다중 클래스 분류 문제에 사용됩니다.\n",
    "활성화 함수 선택 기준\n",
    "\n",
    "활성화 함수는 문제의 유형, 데이터의 특징, 신경망의 구조 등을 고려하여 선택해야 합니다.\n",
    "\n",
    "이진 분류: Sigmoid\n",
    "다중 클래스 분류: Softmax\n",
    "회귀: ReLU, Tanh 등\n",
    "은닉 레이어: ReLU, Tanh 등\n",
    "파이토치에서 활성화 함수 사용 예시"
   ]
  },
  {
   "cell_type": "code",
   "execution_count": null,
   "metadata": {},
   "outputs": [],
   "source": [
    "Python\n",
    "\n",
    "import torch.nn as nn\n",
    "\n",
    "# ReLU 활성화 함수\n",
    "relu = nn.ReLU()\n",
    "output = relu(input_data)\n",
    "\n",
    "# Sigmoid 활성화 함수\n",
    "sigmoid = nn.Sigmoid()\n",
    "output = sigmoid(input_data)\n",
    "이처럼 파이토치에서는 torch.nn 모듈을 통해 다양한 활성화 함수를 제공합니다."
   ]
  }
 ],
 "metadata": {
  "kernelspec": {
   "display_name": "Python 3",
   "language": "python",
   "name": "python3"
  },
  "language_info": {
   "codemirror_mode": {
    "name": "ipython",
    "version": 3
   },
   "file_extension": ".py",
   "mimetype": "text/x-python",
   "name": "python",
   "nbconvert_exporter": "python",
   "pygments_lexer": "ipython3",
   "version": "3.12.7"
  }
 },
 "nbformat": 4,
 "nbformat_minor": 2
}
