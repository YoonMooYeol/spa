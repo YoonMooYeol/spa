{
 "cells": [
  {
   "cell_type": "code",
   "execution_count": 6,
   "metadata": {},
   "outputs": [],
   "source": [
    "import torch\n",
    "import torch.nn as nn\n",
    "import torch.optim as optim\n",
    "import torchvision\n",
    "import torchvision.transforms as transforms"
   ]
  },
  {
   "cell_type": "code",
   "execution_count": 7,
   "metadata": {},
   "outputs": [
    {
     "name": "stdout",
     "output_type": "stream",
     "text": [
      "Downloading http://yann.lecun.com/exdb/mnist/train-images-idx3-ubyte.gz\n",
      "Failed to download (trying next):\n",
      "HTTP Error 403: Forbidden\n",
      "\n",
      "Downloading https://ossci-datasets.s3.amazonaws.com/mnist/train-images-idx3-ubyte.gz\n",
      "Downloading https://ossci-datasets.s3.amazonaws.com/mnist/train-images-idx3-ubyte.gz to ./data/MNIST/raw/train-images-idx3-ubyte.gz\n"
     ]
    },
    {
     "name": "stderr",
     "output_type": "stream",
     "text": [
      "100%|██████████| 9.91M/9.91M [00:06<00:00, 1.61MB/s]\n"
     ]
    },
    {
     "name": "stdout",
     "output_type": "stream",
     "text": [
      "Extracting ./data/MNIST/raw/train-images-idx3-ubyte.gz to ./data/MNIST/raw\n",
      "\n",
      "Downloading http://yann.lecun.com/exdb/mnist/train-labels-idx1-ubyte.gz\n",
      "Failed to download (trying next):\n",
      "HTTP Error 403: Forbidden\n",
      "\n",
      "Downloading https://ossci-datasets.s3.amazonaws.com/mnist/train-labels-idx1-ubyte.gz\n",
      "Downloading https://ossci-datasets.s3.amazonaws.com/mnist/train-labels-idx1-ubyte.gz to ./data/MNIST/raw/train-labels-idx1-ubyte.gz\n"
     ]
    },
    {
     "name": "stderr",
     "output_type": "stream",
     "text": [
      "100%|██████████| 28.9k/28.9k [00:00<00:00, 144kB/s]\n"
     ]
    },
    {
     "name": "stdout",
     "output_type": "stream",
     "text": [
      "Extracting ./data/MNIST/raw/train-labels-idx1-ubyte.gz to ./data/MNIST/raw\n",
      "\n",
      "Downloading http://yann.lecun.com/exdb/mnist/t10k-images-idx3-ubyte.gz\n",
      "Failed to download (trying next):\n",
      "HTTP Error 403: Forbidden\n",
      "\n",
      "Downloading https://ossci-datasets.s3.amazonaws.com/mnist/t10k-images-idx3-ubyte.gz\n",
      "Downloading https://ossci-datasets.s3.amazonaws.com/mnist/t10k-images-idx3-ubyte.gz to ./data/MNIST/raw/t10k-images-idx3-ubyte.gz\n"
     ]
    },
    {
     "name": "stderr",
     "output_type": "stream",
     "text": [
      "100%|██████████| 1.65M/1.65M [00:01<00:00, 1.22MB/s]\n"
     ]
    },
    {
     "name": "stdout",
     "output_type": "stream",
     "text": [
      "Extracting ./data/MNIST/raw/t10k-images-idx3-ubyte.gz to ./data/MNIST/raw\n",
      "\n",
      "Downloading http://yann.lecun.com/exdb/mnist/t10k-labels-idx1-ubyte.gz\n",
      "Failed to download (trying next):\n",
      "HTTP Error 403: Forbidden\n",
      "\n",
      "Downloading https://ossci-datasets.s3.amazonaws.com/mnist/t10k-labels-idx1-ubyte.gz\n",
      "Downloading https://ossci-datasets.s3.amazonaws.com/mnist/t10k-labels-idx1-ubyte.gz to ./data/MNIST/raw/t10k-labels-idx1-ubyte.gz\n"
     ]
    },
    {
     "name": "stderr",
     "output_type": "stream",
     "text": [
      "100%|██████████| 4.54k/4.54k [00:00<00:00, 3.69MB/s]"
     ]
    },
    {
     "name": "stdout",
     "output_type": "stream",
     "text": [
      "Extracting ./data/MNIST/raw/t10k-labels-idx1-ubyte.gz to ./data/MNIST/raw\n",
      "\n"
     ]
    },
    {
     "name": "stderr",
     "output_type": "stream",
     "text": [
      "\n"
     ]
    }
   ],
   "source": [
    "# 데이터셋 전처리\n",
    "transform = transforms.Compose([\n",
    "    transforms.ToTensor(),\n",
    "    transforms.Normalize((0.5,), (0.5,))\n",
    "])\n",
    "\n",
    "# MNIST 데이터셋 로드\n",
    "trainset = torchvision.datasets.MNIST(root='./data', train=True, download=True, transform=transform)\n",
    "trainloader = torch.utils.data.DataLoader(trainset, batch_size=64, shuffle=True)\n",
    "\n",
    "testset = torchvision.datasets.MNIST(root='./data', train=False, download=True, transform=transform)\n",
    "testloader = torch.utils.data.DataLoader(testset, batch_size=64, shuffle=False)"
   ]
  },
  {
   "cell_type": "code",
   "execution_count": 8,
   "metadata": {},
   "outputs": [],
   "source": [
    "class SimpleANN(nn.Module):\n",
    "    def __init__(self):\n",
    "        super(SimpleANN, self).__init__()\n",
    "        self.fc1 = nn.Linear(28 * 28, 128)  # 입력층에서 은닉층으로\n",
    "        self.fc2 = nn.Linear(128, 64)       # 은닉층에서 은닉층으로\n",
    "        self.fc3 = nn.Linear(64, 10)        # 은닉층에서 출력층으로\n",
    "\n",
    "    def forward(self, x):\n",
    "        x = x.view(-1, 28 * 28)  # 입력 이미지를 1차원 벡터로 변환\n",
    "        x = torch.relu(self.fc1(x))\n",
    "        x = torch.relu(self.fc2(x))\n",
    "        x = self.fc3(x)\n",
    "        return x"
   ]
  },
  {
   "cell_type": "code",
   "execution_count": 9,
   "metadata": {},
   "outputs": [
    {
     "name": "stdout",
     "output_type": "stream",
     "text": [
      "[Epoch 1, Batch 100] loss: 1.297\n",
      "[Epoch 1, Batch 200] loss: 0.484\n",
      "[Epoch 1, Batch 300] loss: 0.395\n",
      "[Epoch 1, Batch 400] loss: 0.348\n",
      "[Epoch 1, Batch 500] loss: 0.322\n",
      "[Epoch 1, Batch 600] loss: 0.270\n",
      "[Epoch 1, Batch 700] loss: 0.248\n",
      "[Epoch 1, Batch 800] loss: 0.223\n",
      "[Epoch 1, Batch 900] loss: 0.224\n",
      "[Epoch 2, Batch 100] loss: 0.196\n",
      "[Epoch 2, Batch 200] loss: 0.195\n",
      "[Epoch 2, Batch 300] loss: 0.193\n",
      "[Epoch 2, Batch 400] loss: 0.172\n",
      "[Epoch 2, Batch 500] loss: 0.178\n",
      "[Epoch 2, Batch 600] loss: 0.164\n",
      "[Epoch 2, Batch 700] loss: 0.166\n",
      "[Epoch 2, Batch 800] loss: 0.163\n",
      "[Epoch 2, Batch 900] loss: 0.151\n",
      "[Epoch 3, Batch 100] loss: 0.120\n",
      "[Epoch 3, Batch 200] loss: 0.129\n",
      "[Epoch 3, Batch 300] loss: 0.146\n",
      "[Epoch 3, Batch 400] loss: 0.133\n",
      "[Epoch 3, Batch 500] loss: 0.133\n",
      "[Epoch 3, Batch 600] loss: 0.129\n",
      "[Epoch 3, Batch 700] loss: 0.126\n",
      "[Epoch 3, Batch 800] loss: 0.118\n",
      "[Epoch 3, Batch 900] loss: 0.110\n",
      "[Epoch 4, Batch 100] loss: 0.110\n",
      "[Epoch 4, Batch 200] loss: 0.099\n",
      "[Epoch 4, Batch 300] loss: 0.105\n",
      "[Epoch 4, Batch 400] loss: 0.107\n",
      "[Epoch 4, Batch 500] loss: 0.108\n",
      "[Epoch 4, Batch 600] loss: 0.093\n",
      "[Epoch 4, Batch 700] loss: 0.102\n",
      "[Epoch 4, Batch 800] loss: 0.098\n",
      "[Epoch 4, Batch 900] loss: 0.100\n",
      "[Epoch 5, Batch 100] loss: 0.076\n",
      "[Epoch 5, Batch 200] loss: 0.074\n",
      "[Epoch 5, Batch 300] loss: 0.092\n",
      "[Epoch 5, Batch 400] loss: 0.075\n",
      "[Epoch 5, Batch 500] loss: 0.087\n",
      "[Epoch 5, Batch 600] loss: 0.094\n",
      "[Epoch 5, Batch 700] loss: 0.083\n",
      "[Epoch 5, Batch 800] loss: 0.104\n",
      "[Epoch 5, Batch 900] loss: 0.085\n",
      "[Epoch 6, Batch 100] loss: 0.074\n",
      "[Epoch 6, Batch 200] loss: 0.068\n",
      "[Epoch 6, Batch 300] loss: 0.073\n",
      "[Epoch 6, Batch 400] loss: 0.072\n",
      "[Epoch 6, Batch 500] loss: 0.076\n",
      "[Epoch 6, Batch 600] loss: 0.072\n",
      "[Epoch 6, Batch 700] loss: 0.067\n",
      "[Epoch 6, Batch 800] loss: 0.068\n",
      "[Epoch 6, Batch 900] loss: 0.074\n",
      "[Epoch 7, Batch 100] loss: 0.060\n",
      "[Epoch 7, Batch 200] loss: 0.063\n",
      "[Epoch 7, Batch 300] loss: 0.062\n",
      "[Epoch 7, Batch 400] loss: 0.062\n",
      "[Epoch 7, Batch 500] loss: 0.071\n",
      "[Epoch 7, Batch 600] loss: 0.067\n",
      "[Epoch 7, Batch 700] loss: 0.073\n",
      "[Epoch 7, Batch 800] loss: 0.057\n",
      "[Epoch 7, Batch 900] loss: 0.073\n",
      "[Epoch 8, Batch 100] loss: 0.052\n",
      "[Epoch 8, Batch 200] loss: 0.055\n",
      "[Epoch 8, Batch 300] loss: 0.058\n",
      "[Epoch 8, Batch 400] loss: 0.052\n",
      "[Epoch 8, Batch 500] loss: 0.061\n",
      "[Epoch 8, Batch 600] loss: 0.052\n",
      "[Epoch 8, Batch 700] loss: 0.058\n",
      "[Epoch 8, Batch 800] loss: 0.058\n",
      "[Epoch 8, Batch 900] loss: 0.056\n",
      "[Epoch 9, Batch 100] loss: 0.033\n",
      "[Epoch 9, Batch 200] loss: 0.039\n",
      "[Epoch 9, Batch 300] loss: 0.049\n",
      "[Epoch 9, Batch 400] loss: 0.052\n",
      "[Epoch 9, Batch 500] loss: 0.057\n",
      "[Epoch 9, Batch 600] loss: 0.053\n",
      "[Epoch 9, Batch 700] loss: 0.057\n",
      "[Epoch 9, Batch 800] loss: 0.064\n",
      "[Epoch 9, Batch 900] loss: 0.054\n",
      "[Epoch 10, Batch 100] loss: 0.038\n",
      "[Epoch 10, Batch 200] loss: 0.043\n",
      "[Epoch 10, Batch 300] loss: 0.042\n",
      "[Epoch 10, Batch 400] loss: 0.054\n",
      "[Epoch 10, Batch 500] loss: 0.043\n",
      "[Epoch 10, Batch 600] loss: 0.046\n",
      "[Epoch 10, Batch 700] loss: 0.049\n",
      "[Epoch 10, Batch 800] loss: 0.043\n",
      "[Epoch 10, Batch 900] loss: 0.048\n",
      "Finished Training\n"
     ]
    }
   ],
   "source": [
    "# 모델 초기화\n",
    "model = SimpleANN()\n",
    "\n",
    "# 손실 함수와 최적화 알고리즘 정의\n",
    "criterion = nn.CrossEntropyLoss()\n",
    "optimizer = optim.SGD(model.parameters(), lr=0.01, momentum=0.9)\n",
    "\n",
    "# 모델 학습\n",
    "for epoch in range(10):  # 10 에포크 동안 학습\n",
    "    running_loss = 0.0\n",
    "    for i, data in enumerate(trainloader, 0):\n",
    "        inputs, labels = data\n",
    "\n",
    "        # 기울기 초기화\n",
    "        optimizer.zero_grad()\n",
    "\n",
    "        # 순전파 + 역전파 + 최적화\n",
    "        outputs = model(inputs)\n",
    "        loss = criterion(outputs, labels)\n",
    "        loss.backward()\n",
    "        optimizer.step()\n",
    "\n",
    "        # 손실 출력\n",
    "        running_loss += loss.item()\n",
    "        if i % 100 == 99:  # 매 100 미니배치마다 출력\n",
    "            print(f'[Epoch {epoch + 1}, Batch {i + 1}] loss: {running_loss / 100:.3f}')\n",
    "            running_loss = 0.0\n",
    "\n",
    "print('Finished Training')"
   ]
  },
  {
   "cell_type": "code",
   "execution_count": null,
   "metadata": {},
   "outputs": [
    {
     "name": "stdout",
     "output_type": "stream",
     "text": [
      "Accuracy of the network on the 10000 test images: 97.57%\n"
     ]
    }
   ],
   "source": [
    "correct = 0\n",
    "total = 0\n",
    "with torch.no_grad():\n",
    "    for data in testloader:\n",
    "        images, labels = data\n",
    "        outputs = model(images)\n",
    "        _, predicted = torch.max(outputs.data, 1)\n",
    "        total += labels.size(0)\n",
    "        correct += (predicted == labels).sum().item()\n",
    "\n",
    "print(f'Accuracy of the network on the 10000 test images: {100 * correct / total:.2f}%') \n"
   ]
  }
 ],
 "metadata": {
  "language_info": {
   "name": "python"
  }
 },
 "nbformat": 4,
 "nbformat_minor": 2
}
