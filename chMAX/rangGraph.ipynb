{
 "cells": [
  {
   "cell_type": "code",
   "execution_count": null,
   "metadata": {},
   "outputs": [],
   "source": [
    "from typing import TypedDict, Annotated, Sequence, List\n",
    "from langchain_core.documents.base import Document\n",
    "\n",
    "class AgentState(TypedDict):\n",
    "    actions: str\n",
    "    context: Sequence[Document]\n",
    "    answer: str\n",
    "    question: str\n",
    "    groundness_status: str"
   ]
  },
  {
   "cell_type": "code",
   "execution_count": null,
   "metadata": {},
   "outputs": [],
   "source": [
    "def extract_actions(state: AgentState) -> AgentState:\n",
    "    \"\"\"액션 추출\"\"\"\n",
    "    actions = \"질문에서 추출된 액션들\"\n",
    "    return AgentState(actions=actions)\n",
    "\n",
    "def is_exist_actions(state: AgentState) -> str:\n",
    "    \"\"\"액션 존재 여부 체크\"\"\"\n",
    "    # is_exist_actions, is_not_exist_actions\n",
    "    is_exist_actions = \"is_exist_actions\"\n",
    "    return is_exist_actions\n",
    "\n",
    "def is_exist_docs(state: AgentState) -> str:\n",
    "    \"\"\"검색 문서 존재 여부 체크\"\"\"\n",
    "    # is_exist_docs, is_not_exist_docs\n",
    "    is_exist_docs = \"is_exist_docs\"\n",
    "    return is_exist_docs\n",
    "\n",
    "def retrieve(state: AgentState) -> AgentState:\n",
    "    \"\"\"문서 검색\"\"\"\n",
    "    docs = [Document(page_content=\"검색된 문서 1\"), Document(page_content=\"검색된 문서 2\")]\n",
    "    return AgentState(context=docs)\n",
    "\n",
    "def invoke_llm_with_context(state: AgentState) -> AgentState:\n",
    "    \"\"\"context와 함께 LLM 호출\"\"\"\n",
    "    answer = \"LLM 답변\"\n",
    "    return AgentState(answer=answer)\n",
    "\n",
    "def invoke_llm(state: AgentState) -> AgentState:\n",
    "    \"\"\"LLM 호출\"\"\"\n",
    "    answer = \"LLM 답변\"\n",
    "    return AgentState(answer=answer)\n",
    "    \n",
    "def check_groundedness(state: AgentState) -> AgentState:\n",
    "    \"\"\"검색 문서와 LLM 답변의 적합성 확인\"\"\"\n",
    "    # grounded, notGrounded, notSure\n",
    "    groundness_status = \"grounded\" \n",
    "    return AgentState(groundness_status=groundness_status)\n",
    "    \n",
    "def judgement(state: AgentState) -> str:\n",
    "    \"\"\"노드 재호출 혹은 종료 판단\"\"\"\n",
    "    # retry_retrieve, retry_invoke_llm_with_context, END\n",
    "    judgement = \"END\" \n",
    "    return judgement"
   ]
  },
  {
   "cell_type": "code",
   "execution_count": null,
   "metadata": {},
   "outputs": [],
   "source": [
    "from langgraph.graph import StateGraph\n",
    "\n",
    "workflow = StateGraph(AgentState)\n",
    "END = \"END\"\n"
   ]
  },
  {
   "cell_type": "code",
   "execution_count": null,
   "metadata": {},
   "outputs": [],
   "source": [
    "workflow.add_node(\"extract_actions\", extract_actions)\n",
    "workflow.add_node(\"retrieve\", retrieve)\n",
    "workflow.add_node(\"invoke_llm\", invoke_llm)\n",
    "workflow.add_node(\"invoke_llm_with_context\", invoke_llm_with_context)\n",
    "workflow.add_node(\"check_groundedness\", check_groundedness)"
   ]
  },
  {
   "cell_type": "code",
   "execution_count": null,
   "metadata": {},
   "outputs": [],
   "source": [
    "workflow.add_conditional_edges(\n",
    "    \"extract_actions\",\n",
    "    is_exist_actions,\n",
    "    {\n",
    "        \"is_exist_actions\": \"retrieve\",\n",
    "        \"is_not_exist_actions\": \"invoke_llm\",\n",
    "    }\n",
    ")\n",
    "workflow.add_conditional_edges(\n",
    "    \"retrieve\",\n",
    "    is_exist_docs,\n",
    "    {\n",
    "        \"is_exist_docs\": \"invoke_llm_with_context\",\n",
    "        \"is_not_exist_docs\": \"invoke_llm\",\n",
    "    }\n",
    ")\n",
    "workflow.add_edge(\"invoke_llm_with_context\", \"check_groundedness\")\n",
    "workflow.add_edge(\"invoke_llm\", END)\n",
    "workflow.add_conditional_edges(\n",
    "    \"check_groundedness\",\n",
    "    judgement,\n",
    "    {\n",
    "        \"retry_retrieve\": \"retrieve\",\n",
    "        \"retry_invoke_llm_with_context\": \"invoke_llm_with_context\",\n",
    "        \"END\": END\n",
    "    }\n",
    ")"
   ]
  },
  {
   "cell_type": "code",
   "execution_count": null,
   "metadata": {},
   "outputs": [],
   "source": [
    "workflow.set_entry_point(\"extract_actions\")"
   ]
  },
  {
   "cell_type": "code",
   "execution_count": null,
   "metadata": {},
   "outputs": [],
   "source": [
    "app = workflow.compile()"
   ]
  },
  {
   "cell_type": "code",
   "execution_count": null,
   "metadata": {},
   "outputs": [],
   "source": [
    "app.invoke(AgentState(question=\"내 질문\"))"
   ]
  },
  {
   "cell_type": "code",
   "execution_count": null,
   "metadata": {},
   "outputs": [],
   "source": []
  }
 ],
 "metadata": {
  "kernelspec": {
   "display_name": "Python 3",
   "language": "python",
   "name": "python3"
  },
  "language_info": {
   "codemirror_mode": {
    "name": "ipython",
    "version": 3
   },
   "file_extension": ".py",
   "mimetype": "text/x-python",
   "name": "python",
   "nbconvert_exporter": "python",
   "pygments_lexer": "ipython3",
   "version": "3.12.7"
  }
 },
 "nbformat": 4,
 "nbformat_minor": 2
}
