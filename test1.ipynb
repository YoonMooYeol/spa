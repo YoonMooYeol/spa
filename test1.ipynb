{
 "cells": [
  {
   "cell_type": "code",
   "execution_count": 1,
   "metadata": {},
   "outputs": [
    {
     "name": "stdout",
     "output_type": "stream",
     "text": [
      "주어진 에너지는 5개 입니다.\n",
      "비교하겠습니다.\n",
      "큽니다. 에너지 4개 남았습니다.\n",
      "비교하겠습니다.\n",
      "7... 정답입니다.\n",
      "게임을 종료합니다.\n"
     ]
    }
   ],
   "source": [
    "import random as rd\n",
    "\n",
    "def random_choice():  # 랜덤한 수를 컴퓨터가 선택 후 사용자가 맞추는 함수\n",
    "    number_list = [1, 2, 3, 4, 5, 6, 7, 8, 9, 10]  # 1부터 10까지의 리스트\n",
    "    random_number = rd.choice(number_list)  # 리스트 중에서 컴퓨터가 1개 랜덤으로 고르기\n",
    "    die_count = 0  # 시도 횟수 \n",
    "    print(\"주어진 에너지는 5개 입니다.\") \n",
    "    \n",
    "    while die_count < 5:  # 최대 5번의 시도\n",
    "        try:  # 입력받은 값에서 에러가 날 확률이 있기 때문에 try-except 사용\n",
    "\t\t        # 사용자로부터 입력값을 받음 \n",
    "            number = int(input(f\"(에너지 {5-die_count}개)1부터 10 사이의 숫자를 입력하세요: \"))  \n",
    "        except ValueError:  # 숫자가 아니라면 에러가 나므로 예외가 발생\n",
    "            die_count += 1  # 에너지 감소 카운트 증가\n",
    "            print(f\"(에너지 {5-die_count}개)숫자가 아닙니다. 에너지 소중하게 여기세요.\")\n",
    "            continue  # 다시 while문의 처음으로 돌아간다.\n",
    "        \n",
    "        # 숫자를 입력받으면 시작되는 if문\n",
    "        if number >= 1 and number <= 10:  # 1이상이고 10이하면 참\n",
    "            print(\"비교하겠습니다.\")\n",
    "        else:  # 1미만 10초과면 거짓\n",
    "            die_count += 1  # 에너지 감소 카운트 증가\n",
    "            print(f\"1부터 10 사이의 숫자를 입력하셔야 합니다. 에너지를 소중하게 여기세요.\")\n",
    "            continue  # 다시 while문의 처음으로 돌아간다.\n",
    "\n",
    "        die_count += 1  # # 에너지 감소 카운트 증가\n",
    "\n",
    "        # 입력받은 숫자와 랜덤 숫자 비교\n",
    "        if random_number < number:  # 입력받은 숫자가 랜덤 숫자보다 작을 때\n",
    "            print(f\"작습니다. 에너지 {5-die_count}개 남았습니다.\") \n",
    "        elif random_number > number:  # 입력받은 숫자가 랜덤 숫자보다 클 때\n",
    "            print(f\"큽니다. 에너지 {5-die_count}개 남았습니다.\")\n",
    "        else:  # 입력받은 숫자가 랜덤 숫자와 같을 때\n",
    "            print(f\"{random_number}... 정답입니다.\")\n",
    "            break  # 정답을 맞추면 while문 종료\n",
    "\n",
    "    else:\n",
    "\t\t    # 기회를 모두 소진했을 때 출력되는 메시지\n",
    "        print(\"모든 에너지가 소모되었습니다. You Die.\") \n",
    "\n",
    "def start_end():\n",
    "    while True:\n",
    "        random_choice()  # 게임 실행\n",
    "        # 게임이 끝난 후 사용자에게 다시 시작할 것인지 물어봄\n",
    "        user_input = input(\"다시 하시겠습니까? (y/n): \").strip().lower() \n",
    "        #strip()앞뒤 공백을 지워준다. lower() 대문자를 소문자로 바꿔준다.\n",
    "        if user_input != 'y':\n",
    "            print(\"게임을 종료합니다.\")\n",
    "            break  # 'n'을 입력하면 종료\n",
    "        \n",
    "start_end()  # 실행되면 바로 호출되는 choice() 함수"
   ]
  }
 ],
 "metadata": {
  "kernelspec": {
   "display_name": "Python 3",
   "language": "python",
   "name": "python3"
  },
  "language_info": {
   "codemirror_mode": {
    "name": "ipython",
    "version": 3
   },
   "file_extension": ".py",
   "mimetype": "text/x-python",
   "name": "python",
   "nbconvert_exporter": "python",
   "pygments_lexer": "ipython3",
   "version": "3.9.6"
  }
 },
 "nbformat": 4,
 "nbformat_minor": 2
}
