{
 "cells": [
  {
   "cell_type": "code",
   "execution_count": 1,
   "metadata": {},
   "outputs": [
    {
     "name": "stdout",
     "output_type": "stream",
     "text": [
      "주어진 에너지는 5개 입니다.\n",
      "5... 정답입니다.\n",
      "게임을 종료합니다.\n"
     ]
    }
   ],
   "source": [
    "import random as rd  # random 모듈을 rd라는 이름으로 임포트\n",
    "\n",
    "# 사용자로부터 숫자를 입력받고, 유효성을 검사하는 함수\n",
    "def user_input(die_count):\n",
    "    while True:\n",
    "        try:\n",
    "            number = int(input(f\"(에너지 {5 - die_count}개) 1부터 10 사이의 정수값을 입력하세요: \"))\n",
    "            return number\n",
    "        except ValueError: #int값이 아니면 에러가 발생한다.\n",
    "            die_count += 1\n",
    "            print(f\"(에너지 {5 - die_count}개) 정수가 아닙니다. 에너지를 소중하게 여기세요.\")\n",
    "            continue\n",
    "\n",
    "# 입력받은 숫자와 랜덤 숫자를 비교하는 함수\n",
    "def compare_numbers(random_number, user_number, die_count):\n",
    "    if user_number < 1 or user_number > 10:\n",
    "        die_count += 1\n",
    "        print(f\"(에너지 {5 - die_count}개)1부터 10 사이의 숫자를 입력하셔야 합니다. 에너지를 소중하게 여기세요.\")\n",
    "        return die_count, False  # 유효하지 않은 경우\n",
    "    else:\n",
    "        die_count += 1  # 에너지 감소 카운트 증가\n",
    "        if random_number < user_number:\n",
    "            print(f\"작습니다. 에너지 {5 - die_count}개 남았습니다.\")\n",
    "        elif random_number > user_number:\n",
    "            print(f\"큽니다. 에너지 {5 - die_count}개 남았습니다.\")\n",
    "        else:\n",
    "            print(f\"{random_number}... 정답입니다.\")\n",
    "            return die_count, True  # 정답인 경우\n",
    "    return die_count, False  # 일반적인 경우\n",
    "\n",
    "# 랜덤한 수를 컴퓨터가 선택 후 사용자가 맞추는 함수\n",
    "def random_choice():\n",
    "    number_list = [1, 2, 3, 4, 5, 6, 7, 8, 9, 10]  # 1부터 10까지의 리스트\n",
    "    random_number = rd.choice(number_list)  # 리스트 중에서 컴퓨터가 1개 랜덤으로 고르기\n",
    "    die_count = 0  # 시도 횟수 \n",
    "    print(\"주어진 에너지는 5개 입니다.\") \n",
    "    \n",
    "    while die_count < 5:  # 최대 5번의 시도\n",
    "        user_number = user_input(die_count)  # 사용자로부터 입력값을 받음\n",
    "        die_count, is_correct = compare_numbers(random_number, user_number, die_count)\n",
    "        \n",
    "        if is_correct:  # 정답을 맞춘 경우\n",
    "            break\n",
    "\n",
    "    else:\n",
    "        # 기회를 모두 소진했을 때 출력되는 메시지\n",
    "        print(\"모든 에너지가 소모되었습니다. You Die.\") \n",
    "\n",
    "def start_end():\n",
    "    while True:\n",
    "        random_choice()  # 게임 실행\n",
    "        # 게임이 끝난 후 사용자에게 다시 시작할 것인지 물어봄\n",
    "        user_input = input(\"다시 하시겠습니까? (y/n): \").strip().lower() \n",
    "        #strip()앞뒤 공백을 지워준다. lower() 대문자를 소문자로 바꿔준다.\n",
    "        if user_input != 'y': # 'n'을 입력하면 종료\n",
    "            print(\"게임을 종료합니다.\")\n",
    "            break  \n",
    "        \n",
    "# 함수 호출\n",
    "start_end()"
   ]
  }
 ],
 "metadata": {
  "kernelspec": {
   "display_name": "Python 3",
   "language": "python",
   "name": "python3"
  },
  "language_info": {
   "codemirror_mode": {
    "name": "ipython",
    "version": 3
   },
   "file_extension": ".py",
   "mimetype": "text/x-python",
   "name": "python",
   "nbconvert_exporter": "python",
   "pygments_lexer": "ipython3",
   "version": "3.9.6"
  }
 },
 "nbformat": 4,
 "nbformat_minor": 2
}
