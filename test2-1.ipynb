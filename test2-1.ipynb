{
 "cells": [
  {
   "cell_type": "code",
   "execution_count": 1,
   "metadata": {},
   "outputs": [
    {
     "name": "stdout",
     "output_type": "stream",
     "text": [
      "이름은 윤무열, 성별은 male\n",
      "나이는 39살 성인이시군요.\n"
     ]
    }
   ],
   "source": [
    "#사용자로부터 정보를 입력 받음\n",
    "def name_input():\n",
    "    while True:  # 최대 5번의 시도\n",
    "        try:  # 입력받은 값에서 에러가 날 확률이 있기 때문에 try-except 사용\n",
    "\t\t    # 사용자로부터 입력값을 받음 \n",
    "            number = str(input(\"이름을 입력하세요.\"))\n",
    "            if number.isdigit() != False:\n",
    "                raise ValueError()\n",
    "            else:\n",
    "                return number\n",
    "                \n",
    "        except ValueError:  # 숫자면 에러가 나므로 예외가 발생\n",
    "            print(\"니 신분증 이름\")\n",
    "            continue  # 다시 while문의 처음으로 돌아간다.\n",
    "        \n",
    "def gender_input():\n",
    "    while True:\n",
    "        try:\n",
    "            gender = str(input(\"성별을 입력하세요(male/female).\"))\n",
    "            if gender == 'male':\n",
    "                return gender\n",
    "            elif gender == 'female':\n",
    "                return gender\n",
    "            else:\n",
    "                raise ValueError()\n",
    "        except ValueError:  # 예외가 발생\n",
    "            print(\"male or female\")\n",
    "            continue  # 다시 while문의 처음으로 돌아간다.\n",
    "        \n",
    "def age_input():\n",
    "    while True:  \n",
    "        try:  # 입력받은 값에서 에러가 날 확률이 있기 때문에 try-except 사용\n",
    "\t\t        # 사용자로부터 입력값을 받음 \n",
    "            age = int(input(\"나이를 입력하세요.\"))\n",
    "            return age  \n",
    "        except ValueError:  # 숫자가 아니라면 에러가 나므로 예외가 발생\n",
    "            print(\"숫자가 아닙니다.\")\n",
    "            continue  # 다시 while문의 처음으로 돌아간다.\n",
    "\n",
    "\n",
    "class Person: #이름, 성별, 나이를 입력 받아 출력하는 class\n",
    "    def __init__(self, name, gender, age):\n",
    "        self.name = name\n",
    "        self.gender = gender\n",
    "        self.age = age\n",
    "\n",
    "    def display(self):\n",
    "        print(f\"이름은 {self.name}, 성별은 {self.gender}\")\n",
    "        if self.age <= 19:\n",
    "            print(f\"나이는 {self.age}살 미성년자이시군요.\")\n",
    "        else:\n",
    "            print(f\"나이는 {self.age}살 성인이시군요.\")\n",
    "\n",
    "name = name_input()\n",
    "gender = gender_input()\n",
    "age = age_input()\n",
    "\n",
    "# Person 클래스를 상속\n",
    "person = Person(name, gender, age)  \n",
    "\n",
    "# 출력 함수 호출\n",
    "person.display() "
   ]
  }
 ],
 "metadata": {
  "kernelspec": {
   "display_name": "Python 3",
   "language": "python",
   "name": "python3"
  },
  "language_info": {
   "codemirror_mode": {
    "name": "ipython",
    "version": 3
   },
   "file_extension": ".py",
   "mimetype": "text/x-python",
   "name": "python",
   "nbconvert_exporter": "python",
   "pygments_lexer": "ipython3",
   "version": "3.9.6"
  }
 },
 "nbformat": 4,
 "nbformat_minor": 2
}
