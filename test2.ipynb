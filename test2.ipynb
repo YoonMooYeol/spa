{
 "cells": [
  {
   "cell_type": "code",
   "execution_count": 1,
   "metadata": {},
   "outputs": [
    {
     "name": "stdout",
     "output_type": "stream",
     "text": [
      "이름은 1, 성별은 1\n",
      "나이는 1살 이시군요.\n"
     ]
    }
   ],
   "source": [
    "#사용자로부터 정보를 입력 받음\n",
    "name = input(\"이름을 입력하세요: \")\n",
    "gender = input(\"성별을 입력하세요(남성, 여성): \")\n",
    "age = input(\"나이를 입력하세요: \")\n",
    "\n",
    "class Person: #이름, 성별, 나이를 입력 받아 출력하는 class\n",
    "    def __init__(self, name, gender, age):\n",
    "        self.name = name \n",
    "        self.gender = gender\n",
    "        self.age = age\n",
    "\n",
    "    def display(self):\n",
    "        print(f\"이름은 {self.name}, 성별은 {self.gender}\")\n",
    "        print(f\"나이는 {self.age}살 이시군요.\")\n",
    "\n",
    "# Person 클래스를 상속\n",
    "person = Person(name, gender, age)  \n",
    "\n",
    "# 출력 함수 호출\n",
    "person.display() "
   ]
  }
 ],
 "metadata": {
  "kernelspec": {
   "display_name": "Python 3",
   "language": "python",
   "name": "python3"
  },
  "language_info": {
   "codemirror_mode": {
    "name": "ipython",
    "version": 3
   },
   "file_extension": ".py",
   "mimetype": "text/x-python",
   "name": "python",
   "nbconvert_exporter": "python",
   "pygments_lexer": "ipython3",
   "version": "3.9.6"
  }
 },
 "nbformat": 4,
 "nbformat_minor": 2
}
